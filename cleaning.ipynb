{
  "nbformat": 4,
  "nbformat_minor": 0,
  "metadata": {
    "colab": {
      "provenance": [],
      "authorship_tag": "ABX9TyMUHRxwF035uF2nhPDZGkZr",
      "include_colab_link": true
    },
    "kernelspec": {
      "name": "python3",
      "display_name": "Python 3"
    },
    "language_info": {
      "name": "python"
    }
  },
  "cells": [
    {
      "cell_type": "markdown",
      "metadata": {
        "id": "view-in-github",
        "colab_type": "text"
      },
      "source": [
        "<a href=\"https://colab.research.google.com/github/Rifkynursidik17/LSTM/blob/main/cleaning.ipynb\" target=\"_parent\"><img src=\"https://colab.research.google.com/assets/colab-badge.svg\" alt=\"Open In Colab\"/></a>"
      ]
    },
    {
      "cell_type": "code",
      "execution_count": null,
      "metadata": {
        "id": "57qtX95lWE8e"
      },
      "outputs": [],
      "source": [
        "import re\n",
        "import string\n",
        "import nltk\n",
        "\n",
        "\n",
        "def remove_emoji(tweet):\n",
        "  if tweet is not None and isinstance(tweet, str):\n",
        "    emoji_pattern = re.compile(\"[\"\n",
        "       u\"\\U0001F600-\\U0001F64F\"\n",
        "        u\"\\U0001F300-\\U0001F5FF\"\n",
        "        u\"\\U0001F680-\\U0001F6FF\"\n",
        "        u\"\\U0001F700-\\U0001F77F\"\n",
        "        u\"\\U0001F780-\\U0001F7FF\"\n",
        "        u\"\\U0001F800-\\U0001F8FF\"\n",
        "        u\"\\U0001F900-\\U0001F9FF\"\n",
        "        u\"\\U0001FA00-\\U0001FA6F\"\n",
        "        u\"\\U0001FA70-\\U0001FAFF\"\n",
        "        u\"\\U0001F004-\\U0001F0CF\"\n",
        "        u\"\\U0001F170-\\U0001F1FF\"\n",
        "        \"]+\", flags=re.UNICODE)\n",
        "    return emoji_pattern.sub(r'', tweet)\n",
        "  else:\n",
        "    return tweet\n",
        "\n",
        "\n",
        "def remove_symbols(tweet):\n",
        "    if tweet is not None and isinstance(tweet, str):\n",
        "        tweet = re.sub(r'[^a-zA-Z0-9\\s]', '', tweet)\n",
        "    return tweet\n",
        "\n",
        "\n",
        "def remove_numbers(tweet):\n",
        "  if tweet is not None and isinstance(tweet, str):\n",
        "    tweet = re.sub(r'\\d+', '', tweet)\n",
        "  return tweet\n",
        "\n",
        "def remove_username(text):\n",
        "    import re\n",
        "    return re.sub(r'@[^\\s]+', '', text)\n",
        "\n",
        "data['cleaning'] = data['ulasan'].apply(lambda x: remove_username(x))\n",
        "data['cleaning'] = data['cleaning'].apply(lambda x: remove_emoji(x))\n",
        "data['cleaning'] = data['cleaning'].apply(lambda x: remove_symbols(x))\n",
        "data['cleaning'] = data['cleaning'].apply(lambda x: remove_numbers(x))\n",
        "\n",
        "data.head(5)"
      ]
    }
  ]
}
